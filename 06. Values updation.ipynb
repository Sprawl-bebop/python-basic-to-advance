{
  "nbformat": 4,
  "nbformat_minor": 0,
  "metadata": {
    "colab": {
      "provenance": []
    },
    "kernelspec": {
      "name": "python3",
      "display_name": "Python 3"
    },
    "language_info": {
      "name": "python"
    }
  },
  "cells": [
    {
      "cell_type": "code",
      "execution_count": null,
      "metadata": {
        "colab": {
          "base_uri": "https://localhost:8080/"
        },
        "id": "LZbo6a23X8xc",
        "outputId": "d4139193-c105-41fd-ef9e-e3e9c5024a0a"
      },
      "outputs": [
        {
          "output_type": "stream",
          "name": "stdout",
          "text": [
            "initial:df\n",
            "updated:dcha\n"
          ]
        }
      ],
      "source": [
        "name = 'df'\n",
        "print(f\"initial:{name}\")\n",
        "name = 'dcha'\n",
        "print(f\"updated:{name}\")"
      ]
    },
    {
      "cell_type": "code",
      "source": [
        "w = 1\n",
        "w = w + 0.5\n",
        "print(w)"
      ],
      "metadata": {
        "colab": {
          "base_uri": "https://localhost:8080/"
        },
        "id": "FLBYXO4FZCKr",
        "outputId": "b52eb61a-4eda-452e-dd22-eb37b25916f4"
      },
      "execution_count": null,
      "outputs": [
        {
          "output_type": "stream",
          "name": "stdout",
          "text": [
            "1.5\n"
          ]
        }
      ]
    },
    {
      "cell_type": "code",
      "source": [
        "a, b , c = 2, 0.3, 0.8 + 6j\n",
        "print(a,b,c)"
      ],
      "metadata": {
        "colab": {
          "base_uri": "https://localhost:8080/"
        },
        "id": "n5rxHPRyap-v",
        "outputId": "90425e14-53ce-47e4-a143-8b250db7ace8"
      },
      "execution_count": null,
      "outputs": [
        {
          "output_type": "stream",
          "name": "stdout",
          "text": [
            "2 0.3 (0.8+6j)\n"
          ]
        }
      ]
    },
    {
      "cell_type": "code",
      "source": [
        "a, b , c = 2, 0.3, 0.8 + 6j\n",
        "print(\"type of a\", type(a))\n",
        "print(\"type of b\", type(b))\n",
        "print(\"type of c\", type(c))"
      ],
      "metadata": {
        "colab": {
          "base_uri": "https://localhost:8080/"
        },
        "id": "fYYwiAp8cL39",
        "outputId": "f5f383bb-aa02-45cd-b932-168a05c2c5d6"
      },
      "execution_count": null,
      "outputs": [
        {
          "output_type": "stream",
          "name": "stdout",
          "text": [
            "type of a <class 'int'>\n",
            "type of b <class 'float'>\n",
            "type of c <class 'complex'>\n"
          ]
        }
      ]
    },
    {
      "cell_type": "code",
      "source": [
        "a, b , c = 2, 0.3, 0.8 + 6j\n",
        "print(isinstance(a, int))\n",
        "isinstance(b, int)"
      ],
      "metadata": {
        "colab": {
          "base_uri": "https://localhost:8080/"
        },
        "id": "yceFUx31c3hv",
        "outputId": "7883532c-8987-42b7-bbc7-a88d821b3403"
      },
      "execution_count": null,
      "outputs": [
        {
          "output_type": "stream",
          "name": "stdout",
          "text": [
            "True\n"
          ]
        },
        {
          "output_type": "execute_result",
          "data": {
            "text/plain": [
              "False"
            ]
          },
          "metadata": {},
          "execution_count": 17
        }
      ]
    }
  ]
}